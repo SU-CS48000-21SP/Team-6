{
 "cells": [
  {
   "cell_type": "code",
   "execution_count": 6,
   "id": "502235d7",
   "metadata": {},
   "outputs": [],
   "source": [
    "from urllib.request import urlopen\n",
    "\n",
    "from bs4 import BeautifulSoup\n",
    "\n",
    "url = \"https://github.com/tensorflow/tensorflow/issues\"\n",
    "\n",
    "page = urlopen(url)\n",
    "\n",
    "html = page.read().decode(\"utf-8\")\n",
    "\n",
    "soup = BeautifulSoup(html, \"html.parser\")"
   ]
  },
  {
   "cell_type": "code",
   "execution_count": null,
   "id": "612c046b",
   "metadata": {},
   "outputs": [],
   "source": [
    "def convert_str_to_int(i):\n",
    "    thousands = i.split(\",\")\n",
    "    if len(thousands) == 1:\n",
    "        return int(thousands[0])\n",
    "    return int(thousands[0]) * 1000 + int(thousands[1])"
   ]
  },
  {
   "cell_type": "code",
   "execution_count": 17,
   "id": "956befe7",
   "metadata": {},
   "outputs": [
    {
     "name": "stdout",
     "output_type": "stream",
     "text": [
      "2217\n",
      "32426\n"
     ]
    }
   ],
   "source": [
    "for i in soup.find_all(\"a\", {\"class\": \"btn-link\"})[:2]:\n",
    "    print(convert_str_to_int(i.text.strip().split(\" \")[0]))"
   ]
  },
  {
   "cell_type": "code",
   "execution_count": 15,
   "id": "80750035",
   "metadata": {},
   "outputs": [],
   "source": []
  },
  {
   "cell_type": "code",
   "execution_count": null,
   "id": "5c768624",
   "metadata": {},
   "outputs": [],
   "source": []
  }
 ],
 "metadata": {
  "kernelspec": {
   "display_name": "Python 3 (ipykernel)",
   "language": "python",
   "name": "python3"
  },
  "language_info": {
   "codemirror_mode": {
    "name": "ipython",
    "version": 3
   },
   "file_extension": ".py",
   "mimetype": "text/x-python",
   "name": "python",
   "nbconvert_exporter": "python",
   "pygments_lexer": "ipython3",
   "version": "3.9.10"
  }
 },
 "nbformat": 4,
 "nbformat_minor": 5
}
